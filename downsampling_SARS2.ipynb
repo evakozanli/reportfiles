{
 "cells": [
  {
   "cell_type": "code",
   "execution_count": 2,
   "metadata": {},
   "outputs": [],
   "source": [
    "import pandas as pd\n",
    "import re\n",
    "from Bio import SeqIO\n",
    "import numpy as np\n"
   ]
  },
  {
   "cell_type": "code",
   "execution_count": 6,
   "metadata": {},
   "outputs": [
    {
     "name": "stdout",
     "output_type": "stream",
     "text": [
      "1493                                          id  \\\n",
      "0                               NC_045512.2   \n",
      "1               hCoV-19/Namibia/N25837/2021   \n",
      "2           hCoV-19/Guinea/LFHVG-G0623/2021   \n",
      "3         hCoV-19/Kenya/ILRI_COVM02475/2021   \n",
      "4     hCoV-19/Palestine/QIBPS-OM_12_S9/2022   \n",
      "...                                     ...   \n",
      "1488   hCoV-19/Slovakia/BA_22_00029745/2022   \n",
      "1489    hCoV-19/Spain/MD-HGUGM-6507189/2022   \n",
      "1490            hCoV-19/Singapore/4932/2022   \n",
      "1491            hCoV-19/Singapore/4968/2022   \n",
      "1492      hCoV-19/Canada/MB-CPL-421038/2022   \n",
      "\n",
      "                                                    seq  \n",
      "0     atgtttgtttttcttgttttattgccactagtctctagtcagtgtg...  \n",
      "1     atgtttgtttttcttgttttattgccactagtctctagtcagtgtg...  \n",
      "2     atgtttgtttttcttgttttattgccactagtctctagtcagtgtg...  \n",
      "3     atgtttgtttttcttgttttattgccactagtctctagtcagtgtg...  \n",
      "4     atgtttgtttttcttgttttattgccactagtctctagtcagtgtg...  \n",
      "...                                                 ...  \n",
      "1488  atgtttgtttttcttgttttattgccactagtctctagtcagtgtg...  \n",
      "1489  atgtttgtttttcttgttttattgccactagtctctagtcagtgtg...  \n",
      "1490  atgtttgtttttcttgttttattgccactagtctctagtcagtgtg...  \n",
      "1491  atgtttgttttttttgttttattgccactagtctctagtcagtgtg...  \n",
      "1492  atgtttgtttttcttgttttattgccactagtctctagtcagtgtg...  \n",
      "\n",
      "[1493 rows x 2 columns]\n"
     ]
    }
   ],
   "source": [
    "hcov= 'SARS2' #choose name\n",
    "\n",
    "df=pd.DataFrame()\n",
    "with open('genomic_analyses//SEQ//MSA//final_seq_'+str(hcov)+'_aligned.fasta') as file:\n",
    "    for seq_rec in SeqIO.parse(file, 'fasta'):\n",
    "        seq_id= seq_rec.description\n",
    "        if seq_id:\n",
    "            record= {'id': seq_id, 'seq': str(seq_rec.seq.lower())}\n",
    "            df=df.append(record, ignore_index=True)\n",
    "print(len(df), df)"
   ]
  },
  {
   "cell_type": "code",
   "execution_count": 126,
   "metadata": {},
   "outputs": [],
   "source": [
    "# print(list(df['id']))"
   ]
  },
  {
   "cell_type": "code",
   "execution_count": 7,
   "metadata": {},
   "outputs": [
    {
     "name": "stdout",
     "output_type": "stream",
     "text": [
      "1493\n",
      "1492\n"
     ]
    }
   ],
   "source": [
    "listresult=[]\n",
    "#look in id for the year of collection\n",
    "for i, row in df.iterrows():\n",
    "\n",
    "    resultre=re.search(r'(?<=\\/)((20[0-9]{2})|(19[0-9]{2}))$', row['id'])\n",
    "    if resultre:\n",
    "        result=resultre.group()\n",
    "    else:\n",
    "        result=np.nan\n",
    "\n",
    "\n",
    "    \n",
    "    listresult.append(result)\n",
    "        \n",
    "df['year']=listresult\n",
    "print(len(df))\n",
    "df=df[df['year'].notnull()]\n",
    "print(len(df))"
   ]
  },
  {
   "cell_type": "code",
   "execution_count": 8,
   "metadata": {},
   "outputs": [
    {
     "name": "stdout",
     "output_type": "stream",
     "text": [
      "2021 648\n",
      "2022 657\n",
      "2020 186\n",
      "2019 1\n"
     ]
    }
   ],
   "source": [
    "df1=pd.DataFrame()\n",
    "# for each unique year, sample 10 sequences randomly to eventually make the tree with\n",
    "for year in df.year.unique():\n",
    "    count=len(df[df.year == year])\n",
    "    print(year, count)\n",
    "    if count < 50:\n",
    "        # print(df[df.year == year].sample(n=count,replace=False))\n",
    "        dfnew=df[df.year == year].sample(n=count,replace=False)\n",
    "\n",
    "    else:\n",
    "        # print(df[df.year == year].sample(n=10,replace=False))\n",
    "        dfnew=df[df.year == year].sample(n=50,replace=False)\n",
    "    df1=df1.append(dfnew, ignore_index=True)"
   ]
  },
  {
   "cell_type": "code",
   "execution_count": 9,
   "metadata": {},
   "outputs": [
    {
     "data": {
      "text/html": [
       "<div>\n",
       "<style scoped>\n",
       "    .dataframe tbody tr th:only-of-type {\n",
       "        vertical-align: middle;\n",
       "    }\n",
       "\n",
       "    .dataframe tbody tr th {\n",
       "        vertical-align: top;\n",
       "    }\n",
       "\n",
       "    .dataframe thead th {\n",
       "        text-align: right;\n",
       "    }\n",
       "</style>\n",
       "<table border=\"1\" class=\"dataframe\">\n",
       "  <thead>\n",
       "    <tr style=\"text-align: right;\">\n",
       "      <th></th>\n",
       "      <th>id</th>\n",
       "      <th>seq</th>\n",
       "      <th>year</th>\n",
       "    </tr>\n",
       "  </thead>\n",
       "  <tbody>\n",
       "    <tr>\n",
       "      <th>0</th>\n",
       "      <td>hCoV-19/France/MC-CERBAHC-1240226/2021</td>\n",
       "      <td>atgtttgtttttcttgttttattgccactagtctctagtcagtgtg...</td>\n",
       "      <td>2021</td>\n",
       "    </tr>\n",
       "    <tr>\n",
       "      <th>1</th>\n",
       "      <td>hCoV-19/Croatia/HRV000_126/2021</td>\n",
       "      <td>atgtttgtttttcttgttttattgccactagtctctagtcagtgtg...</td>\n",
       "      <td>2021</td>\n",
       "    </tr>\n",
       "    <tr>\n",
       "      <th>2</th>\n",
       "      <td>hCoV-19/Mongolia/10011941/2021</td>\n",
       "      <td>atgtttgtttttcttgttttattgccactagtttctagtcagtgtg...</td>\n",
       "      <td>2021</td>\n",
       "    </tr>\n",
       "    <tr>\n",
       "      <th>3</th>\n",
       "      <td>hCoV-19/Mexico/NLE_INER_IMSS_3176/2021</td>\n",
       "      <td>atgtttgtttttcttgttttattgccactagtctctagtcagtgtg...</td>\n",
       "      <td>2021</td>\n",
       "    </tr>\n",
       "    <tr>\n",
       "      <th>4</th>\n",
       "      <td>hCoV-19/ElSalvador/INC-LNSP-097/2021</td>\n",
       "      <td>atgtttgtttttcttgttttattgccactagtctctagtcagtgtg...</td>\n",
       "      <td>2021</td>\n",
       "    </tr>\n",
       "    <tr>\n",
       "      <th>...</th>\n",
       "      <td>...</td>\n",
       "      <td>...</td>\n",
       "      <td>...</td>\n",
       "    </tr>\n",
       "    <tr>\n",
       "      <th>146</th>\n",
       "      <td>hCoV-19/France/PAC-IHU-1128/2020</td>\n",
       "      <td>atgtttgtttttcttgttttattgccactagtctctagtcagtgtg...</td>\n",
       "      <td>2020</td>\n",
       "    </tr>\n",
       "    <tr>\n",
       "      <th>147</th>\n",
       "      <td>hCoV-19/Haiti/33984/2020</td>\n",
       "      <td>atgtttgtttttcttgttttattgccactagtctctagtcagtgtg...</td>\n",
       "      <td>2020</td>\n",
       "    </tr>\n",
       "    <tr>\n",
       "      <th>148</th>\n",
       "      <td>hCoV-19/Mexico/GTO-InDRE_115/2020</td>\n",
       "      <td>atgtttgtttttcttgttttattgccactagtctctagtcagtgtg...</td>\n",
       "      <td>2020</td>\n",
       "    </tr>\n",
       "    <tr>\n",
       "      <th>149</th>\n",
       "      <td>hCoV-19/Luxembourg/LNS8602041/2020</td>\n",
       "      <td>atgtttgtttttcttgttttattgccactagtctctagtcagtgtg...</td>\n",
       "      <td>2020</td>\n",
       "    </tr>\n",
       "    <tr>\n",
       "      <th>150</th>\n",
       "      <td>hCoV-19/Wuhan/WH01/2019</td>\n",
       "      <td>atgtttgtttttcttgttttattgccactagtctctagtcagtgtg...</td>\n",
       "      <td>2019</td>\n",
       "    </tr>\n",
       "  </tbody>\n",
       "</table>\n",
       "<p>151 rows × 3 columns</p>\n",
       "</div>"
      ],
      "text/plain": [
       "                                         id  \\\n",
       "0    hCoV-19/France/MC-CERBAHC-1240226/2021   \n",
       "1           hCoV-19/Croatia/HRV000_126/2021   \n",
       "2            hCoV-19/Mongolia/10011941/2021   \n",
       "3    hCoV-19/Mexico/NLE_INER_IMSS_3176/2021   \n",
       "4      hCoV-19/ElSalvador/INC-LNSP-097/2021   \n",
       "..                                      ...   \n",
       "146        hCoV-19/France/PAC-IHU-1128/2020   \n",
       "147                hCoV-19/Haiti/33984/2020   \n",
       "148       hCoV-19/Mexico/GTO-InDRE_115/2020   \n",
       "149      hCoV-19/Luxembourg/LNS8602041/2020   \n",
       "150                 hCoV-19/Wuhan/WH01/2019   \n",
       "\n",
       "                                                   seq  year  \n",
       "0    atgtttgtttttcttgttttattgccactagtctctagtcagtgtg...  2021  \n",
       "1    atgtttgtttttcttgttttattgccactagtctctagtcagtgtg...  2021  \n",
       "2    atgtttgtttttcttgttttattgccactagtttctagtcagtgtg...  2021  \n",
       "3    atgtttgtttttcttgttttattgccactagtctctagtcagtgtg...  2021  \n",
       "4    atgtttgtttttcttgttttattgccactagtctctagtcagtgtg...  2021  \n",
       "..                                                 ...   ...  \n",
       "146  atgtttgtttttcttgttttattgccactagtctctagtcagtgtg...  2020  \n",
       "147  atgtttgtttttcttgttttattgccactagtctctagtcagtgtg...  2020  \n",
       "148  atgtttgtttttcttgttttattgccactagtctctagtcagtgtg...  2020  \n",
       "149  atgtttgtttttcttgttttattgccactagtctctagtcagtgtg...  2020  \n",
       "150  atgtttgtttttcttgttttattgccactagtctctagtcagtgtg...  2019  \n",
       "\n",
       "[151 rows x 3 columns]"
      ]
     },
     "execution_count": 9,
     "metadata": {},
     "output_type": "execute_result"
    }
   ],
   "source": [
    "df1['id']=df1['id'].str.replace(' ', '')\n",
    "df1"
   ]
  },
  {
   "cell_type": "code",
   "execution_count": 10,
   "metadata": {},
   "outputs": [],
   "source": [
    "def dataframetofasta(dataframe, fastaname):\n",
    "        #create fasta file\n",
    "        file= fastaname + \".fasta\"\n",
    "        f= open(file, 'a')\n",
    "        #write to the file\n",
    "        for i, row in dataframe.iterrows():\n",
    "            lines='>'+ row['id']+'\\n'+ row['seq'] + \"\\n\"\n",
    "            f.write(lines)\n",
    "        f.close()\n",
    "\n",
    "\n",
    "#change name of the file with every run\n",
    "dataframetofasta(df1, 'genomic_analyses//SEQ//MSA//'+str('final_seq_downsampled_'+str(hcov)+ '_MSA'))\n",
    "\n"
   ]
  }
 ],
 "metadata": {
  "interpreter": {
   "hash": "9c9ae641c5235c2f1f03348eb2e8dc8801508e47084873ad2b25c816a6e3304f"
  },
  "kernelspec": {
   "display_name": "Python 3.9.13 64-bit (windows store)",
   "language": "python",
   "name": "python3"
  },
  "language_info": {
   "codemirror_mode": {
    "name": "ipython",
    "version": 3
   },
   "file_extension": ".py",
   "mimetype": "text/x-python",
   "name": "python",
   "nbconvert_exporter": "python",
   "pygments_lexer": "ipython3",
   "version": "3.9.13"
  },
  "orig_nbformat": 4
 },
 "nbformat": 4,
 "nbformat_minor": 2
}
