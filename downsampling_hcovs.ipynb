{
 "cells": [
  {
   "cell_type": "code",
   "execution_count": 1,
   "metadata": {},
   "outputs": [],
   "source": [
    "import pandas as pd\n",
    "import re\n",
    "from Bio import SeqIO\n",
    "import numpy as np\n"
   ]
  },
  {
   "cell_type": "code",
   "execution_count": 60,
   "metadata": {},
   "outputs": [
    {
     "name": "stdout",
     "output_type": "stream",
     "text": [
      "94                                                    id  \\\n",
      "0                                         NC_005831.2   \n",
      "1   OK662398.1|Humancoronavirus229EstrainTKU-2021B...   \n",
      "2   KF293664.1|Humancoronavirus229Eclonep0,partial...   \n",
      "3   KF293665.1|Humancoronavirus229Eclonemock-p11,p...   \n",
      "4   KF293666.1|Humancoronavirus229EcloneK22-p11,pa...   \n",
      "..                                                ...   \n",
      "89  KY862053.1|HumancoronavirusNL63isolateNL63/FRA...   \n",
      "90  KY862054.1|HumancoronavirusNL63isolateNL63/FRA...   \n",
      "91  KX179494.1|HumancoronavirusNL63strainNL63/Hait...   \n",
      "92  KX179495.1|HumancoronavirusNL63strainNL63/Hait...   \n",
      "93  KX179496.1|HumancoronavirusNL63strainNL63/Hait...   \n",
      "\n",
      "                                                  seq  \n",
      "0   atgaaacttttcttgattttgcttgttttgcccctggcctcttgct...  \n",
      "1   ataaaatgttt----gttttgcttgtt-------------------...  \n",
      "2   ataaaatgttt----gttttgcttgtt-------------------...  \n",
      "3   ataaaatgttt----gttttgcttgtt-------------------...  \n",
      "4   ataaaatgttt----gttttgcttgtt-------------------...  \n",
      "..                                                ...  \n",
      "89  atgaaacttttcttgattttgcttgttttgcccttggcctcttgct...  \n",
      "90  atgaaacttttcttgattttgcttgttttgcccttggcctcttgct...  \n",
      "91  atgaaacttttcttgattttgcttgttttgcccctggcctcttgct...  \n",
      "92  atgaaacttttcttgattttgcttgttttgcccctggcctcttgct...  \n",
      "93  atgaaacttttcttgattttgcttgttttgcccctggcctcttgct...  \n",
      "\n",
      "[94 rows x 2 columns]\n"
     ]
    }
   ],
   "source": [
    "hcov= 'NL63' #choose name\n",
    "\n",
    "df=pd.DataFrame()\n",
    "with open('genomic_analyses//SEQ//MSA//final_seq_'+str(hcov)+'_aligned.fasta') as file:\n",
    "    for seq_rec in SeqIO.parse(file, 'fasta'):\n",
    "        seq_id= seq_rec.description\n",
    "        if seq_id:\n",
    "            record= {'id': seq_id, 'seq': str(seq_rec.seq.lower())}\n",
    "            df=df.append(record, ignore_index=True)\n",
    "print(len(df), df)"
   ]
  },
  {
   "cell_type": "code",
   "execution_count": 126,
   "metadata": {},
   "outputs": [],
   "source": [
    "# print(list(df['id']))"
   ]
  },
  {
   "cell_type": "code",
   "execution_count": 61,
   "metadata": {},
   "outputs": [
    {
     "name": "stdout",
     "output_type": "stream",
     "text": [
      "94\n",
      "90\n"
     ]
    }
   ],
   "source": [
    "listresult=[]\n",
    "#look in id for the year of collection\n",
    "for i, row in df.iterrows():\n",
    "    resultre=re.search(r'(?<=\\|)((20[0-9]{2})|(19[0-9]{2}))', row['id'])\n",
    "    if resultre:\n",
    "        result=resultre.group()\n",
    "    else:\n",
    "        result=np.nan\n",
    "\n",
    "\n",
    "    \n",
    "    listresult.append(result)\n",
    "        \n",
    "df['year']=listresult\n",
    "print(len(df))\n",
    "df=df[df['year'].notnull()]\n",
    "print(len(df))"
   ]
  },
  {
   "cell_type": "code",
   "execution_count": 62,
   "metadata": {},
   "outputs": [
    {
     "name": "stdout",
     "output_type": "stream",
     "text": [
      "2021 1\n",
      "2017 11\n",
      "2016 12\n",
      "2015 8\n",
      "2013 3\n",
      "2018 3\n",
      "2020 4\n",
      "2019 1\n",
      "1993 3\n",
      "2009 5\n",
      "2008 15\n",
      "2004 5\n",
      "2010 4\n",
      "2007 7\n",
      "2014 2\n",
      "2012 2\n",
      "2011 2\n",
      "2005 2\n"
     ]
    }
   ],
   "source": [
    "df1=pd.DataFrame()\n",
    "# for each unique year, sample 10 sequences randomly to eventually make the tree with\n",
    "for year in df.year.unique():\n",
    "    count=len(df[df.year == year])\n",
    "    print(year, count)\n",
    "    if count < 15:\n",
    "        # print(df[df.year == year].sample(n=count,replace=False))\n",
    "        dfnew=df[df.year == year].sample(n=count,replace=False)\n",
    "\n",
    "    else:\n",
    "        # print(df[df.year == year].sample(n=10,replace=False))\n",
    "        dfnew=df[df.year == year].sample(n=15,replace=False)\n",
    "    df1=df1.append(dfnew, ignore_index=True)"
   ]
  },
  {
   "cell_type": "code",
   "execution_count": 63,
   "metadata": {},
   "outputs": [
    {
     "data": {
      "text/html": [
       "<div>\n",
       "<style scoped>\n",
       "    .dataframe tbody tr th:only-of-type {\n",
       "        vertical-align: middle;\n",
       "    }\n",
       "\n",
       "    .dataframe tbody tr th {\n",
       "        vertical-align: top;\n",
       "    }\n",
       "\n",
       "    .dataframe thead th {\n",
       "        text-align: right;\n",
       "    }\n",
       "</style>\n",
       "<table border=\"1\" class=\"dataframe\">\n",
       "  <thead>\n",
       "    <tr style=\"text-align: right;\">\n",
       "      <th></th>\n",
       "      <th>id</th>\n",
       "      <th>seq</th>\n",
       "      <th>year</th>\n",
       "    </tr>\n",
       "  </thead>\n",
       "  <tbody>\n",
       "    <tr>\n",
       "      <th>0</th>\n",
       "      <td>OK662398.1|Humancoronavirus229EstrainTKU-2021B...</td>\n",
       "      <td>ataaaatgttt----gttttgcttgtt-------------------...</td>\n",
       "      <td>2021</td>\n",
       "    </tr>\n",
       "    <tr>\n",
       "      <th>1</th>\n",
       "      <td>MW587037.1|Humancoronavirus229EisolateS0970XLQ...</td>\n",
       "      <td>ataaaatgttt----gttttacttgtt-------------------...</td>\n",
       "      <td>2017</td>\n",
       "    </tr>\n",
       "    <tr>\n",
       "      <th>2</th>\n",
       "      <td>MW532104.1|Humancoronavirus229Estrain229E/Chin...</td>\n",
       "      <td>ataaaatgttt----gttttacttgtt-------------------...</td>\n",
       "      <td>2017</td>\n",
       "    </tr>\n",
       "    <tr>\n",
       "      <th>3</th>\n",
       "      <td>MW532105.1|Humancoronavirus229Estrain229E/Chin...</td>\n",
       "      <td>ataaaatgttt----gttttacttgtt-------------------...</td>\n",
       "      <td>2017</td>\n",
       "    </tr>\n",
       "    <tr>\n",
       "      <th>4</th>\n",
       "      <td>MT438697.1|Humancoronavirus229EisolateHCoV-229...</td>\n",
       "      <td>ataaaatgttt----gttttacttgtt-------------------...</td>\n",
       "      <td>2017</td>\n",
       "    </tr>\n",
       "    <tr>\n",
       "      <th>...</th>\n",
       "      <td>...</td>\n",
       "      <td>...</td>\n",
       "      <td>...</td>\n",
       "    </tr>\n",
       "    <tr>\n",
       "      <th>85</th>\n",
       "      <td>KY862042.1|HumancoronavirusNL63isolateNL63/FRA...</td>\n",
       "      <td>atgaaacttttcttgattttgcttgttttgcccttggcctcttgct...</td>\n",
       "      <td>2012</td>\n",
       "    </tr>\n",
       "    <tr>\n",
       "      <th>86</th>\n",
       "      <td>KY862044.1|HumancoronavirusNL63isolateNL63/FRA...</td>\n",
       "      <td>atgaaacttttcttgattttgcttattttgcccctggtttcttgct...</td>\n",
       "      <td>2011</td>\n",
       "    </tr>\n",
       "    <tr>\n",
       "      <th>87</th>\n",
       "      <td>KY862043.1|HumancoronavirusNL63isolateNL63/FRA...</td>\n",
       "      <td>atgaaacttttcttgattttgcttgttttgcccctggcctcttgct...</td>\n",
       "      <td>2011</td>\n",
       "    </tr>\n",
       "    <tr>\n",
       "      <th>88</th>\n",
       "      <td>KY862051.1|HumancoronavirusNL63isolateNL63/FRA...</td>\n",
       "      <td>atgaaacttttcttgattttgcttattttgcccctggtttcttgct...</td>\n",
       "      <td>2005</td>\n",
       "    </tr>\n",
       "    <tr>\n",
       "      <th>89</th>\n",
       "      <td>KY862052.1|HumancoronavirusNL63isolateNL63/FRA...</td>\n",
       "      <td>atgaaacttttcttgattttgcttgttttgcccctggcctcttgct...</td>\n",
       "      <td>2005</td>\n",
       "    </tr>\n",
       "  </tbody>\n",
       "</table>\n",
       "<p>90 rows × 3 columns</p>\n",
       "</div>"
      ],
      "text/plain": [
       "                                                   id  \\\n",
       "0   OK662398.1|Humancoronavirus229EstrainTKU-2021B...   \n",
       "1   MW587037.1|Humancoronavirus229EisolateS0970XLQ...   \n",
       "2   MW532104.1|Humancoronavirus229Estrain229E/Chin...   \n",
       "3   MW532105.1|Humancoronavirus229Estrain229E/Chin...   \n",
       "4   MT438697.1|Humancoronavirus229EisolateHCoV-229...   \n",
       "..                                                ...   \n",
       "85  KY862042.1|HumancoronavirusNL63isolateNL63/FRA...   \n",
       "86  KY862044.1|HumancoronavirusNL63isolateNL63/FRA...   \n",
       "87  KY862043.1|HumancoronavirusNL63isolateNL63/FRA...   \n",
       "88  KY862051.1|HumancoronavirusNL63isolateNL63/FRA...   \n",
       "89  KY862052.1|HumancoronavirusNL63isolateNL63/FRA...   \n",
       "\n",
       "                                                  seq  year  \n",
       "0   ataaaatgttt----gttttgcttgtt-------------------...  2021  \n",
       "1   ataaaatgttt----gttttacttgtt-------------------...  2017  \n",
       "2   ataaaatgttt----gttttacttgtt-------------------...  2017  \n",
       "3   ataaaatgttt----gttttacttgtt-------------------...  2017  \n",
       "4   ataaaatgttt----gttttacttgtt-------------------...  2017  \n",
       "..                                                ...   ...  \n",
       "85  atgaaacttttcttgattttgcttgttttgcccttggcctcttgct...  2012  \n",
       "86  atgaaacttttcttgattttgcttattttgcccctggtttcttgct...  2011  \n",
       "87  atgaaacttttcttgattttgcttgttttgcccctggcctcttgct...  2011  \n",
       "88  atgaaacttttcttgattttgcttattttgcccctggtttcttgct...  2005  \n",
       "89  atgaaacttttcttgattttgcttgttttgcccctggcctcttgct...  2005  \n",
       "\n",
       "[90 rows x 3 columns]"
      ]
     },
     "execution_count": 63,
     "metadata": {},
     "output_type": "execute_result"
    }
   ],
   "source": [
    "df1['id']=df1['id'].str.replace(' ', '')\n",
    "df1"
   ]
  },
  {
   "cell_type": "code",
   "execution_count": 64,
   "metadata": {},
   "outputs": [],
   "source": [
    "def dataframetofasta(dataframe, fastaname):\n",
    "        #create fasta file\n",
    "        file= fastaname + \".fasta\"\n",
    "        f= open(file, 'a')\n",
    "        #write to the file\n",
    "        for i, row in dataframe.iterrows():\n",
    "            lines='>'+ row['id']+'\\n'+ row['seq'] + \"\\n\"\n",
    "            f.write(lines)\n",
    "        f.close()\n",
    "\n",
    "\n",
    "#change name of the file with every run\n",
    "dataframetofasta(df1, 'genomic_analyses//SEQ//MSA//'+str('final_seq_downsampled_'+str(hcov)+ '_MSA'))\n",
    "\n"
   ]
  }
 ],
 "metadata": {
  "interpreter": {
   "hash": "9c9ae641c5235c2f1f03348eb2e8dc8801508e47084873ad2b25c816a6e3304f"
  },
  "kernelspec": {
   "display_name": "Python 3.9.13 64-bit (windows store)",
   "language": "python",
   "name": "python3"
  },
  "language_info": {
   "codemirror_mode": {
    "name": "ipython",
    "version": 3
   },
   "file_extension": ".py",
   "mimetype": "text/x-python",
   "name": "python",
   "nbconvert_exporter": "python",
   "pygments_lexer": "ipython3",
   "version": "3.9.13"
  },
  "orig_nbformat": 4
 },
 "nbformat": 4,
 "nbformat_minor": 2
}
