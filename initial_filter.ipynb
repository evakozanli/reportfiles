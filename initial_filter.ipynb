{
 "cells": [
  {
   "cell_type": "code",
   "execution_count": 15,
   "metadata": {},
   "outputs": [],
   "source": [
    "import pandas as pd\n",
    "import re\n",
    "from Bio import SeqIO\n",
    "import numpy as np\n"
   ]
  },
  {
   "cell_type": "code",
   "execution_count": 48,
   "metadata": {},
   "outputs": [
    {
     "name": "stdout",
     "output_type": "stream",
     "text": [
      "0 Empty DataFrame\n",
      "Columns: []\n",
      "Index: []\n"
     ]
    }
   ],
   "source": [
    "df=pd.DataFrame()\n",
    "hcov= '229E' #choose name hcov\n",
    "\n",
    "seq='S' #choose which sequences\n",
    "\n",
    "\n",
    "with open('genomic_analyses//SEQ//'+str(seq)+'_SEQ//'+str(hcov)+'check_Sequences2.fasta') as file:\n",
    "    for seq_rec in SeqIO.parse(file, 'fasta'):\n",
    "        seq_id= seq_rec.description\n",
    "        if seq_id:\n",
    "            record= {'id': seq_id, 'seq': str(seq_rec.seq.lower())}\n",
    "            df=df.append(record, ignore_index=True)\n",
    "print(len(df), df)"
   ]
  },
  {
   "cell_type": "code",
   "execution_count": 49,
   "metadata": {},
   "outputs": [
    {
     "name": "stdout",
     "output_type": "stream",
     "text": [
      "[]\n"
     ]
    },
    {
     "data": {
      "text/html": [
       "<div>\n",
       "<style scoped>\n",
       "    .dataframe tbody tr th:only-of-type {\n",
       "        vertical-align: middle;\n",
       "    }\n",
       "\n",
       "    .dataframe tbody tr th {\n",
       "        vertical-align: top;\n",
       "    }\n",
       "\n",
       "    .dataframe thead th {\n",
       "        text-align: right;\n",
       "    }\n",
       "</style>\n",
       "<table border=\"1\" class=\"dataframe\">\n",
       "  <thead>\n",
       "    <tr style=\"text-align: right;\">\n",
       "      <th></th>\n",
       "    </tr>\n",
       "  </thead>\n",
       "  <tbody>\n",
       "  </tbody>\n",
       "</table>\n",
       "</div>"
      ],
      "text/plain": [
       "Empty DataFrame\n",
       "Columns: []\n",
       "Index: []"
      ]
     },
     "execution_count": 49,
     "metadata": {},
     "output_type": "execute_result"
    }
   ],
   "source": [
    "# take out all sequences that have more than 20% unknown  --- only full sequences\n",
    "ambiguous=[]\n",
    "for i, row in df.iterrows():\n",
    "    #for all rows that are not the reference\n",
    "    if row['id']!= df.id[0]:\n",
    "        # look for any nt that are not atgc or a gap (-)\n",
    "        re.sub(r\"[^atgc-]\", 'n', row['seq'])\n",
    "        # calculate the percentage of nucleotides that are either n or gap\n",
    "        calc=len(re.findall( r\"[n]\", str(row['seq'])))/ len(row['seq'])\n",
    "        # if more that 1 % is gap , make list to drop seq and its ref\n",
    "        if calc > 0.01:\n",
    "            ambiguous.append(i)\n",
    "            ambiguous.append(i-1)\n",
    "print(ambiguous)      \n",
    "df= df.drop(ambiguous).reset_index(drop=True)\n",
    "df"
   ]
  },
  {
   "cell_type": "code",
   "execution_count": 50,
   "metadata": {},
   "outputs": [],
   "source": [
    "def dataframetofasta(dataframe, fastaname):\n",
    "        #create fasta file\n",
    "        file= fastaname + \".fasta\"\n",
    "        f= open(file, 'a')\n",
    "        #write to the file\n",
    "        for i, row in dataframe.iterrows():\n",
    "            lines='>'+ row['id']+'\\n'+ row['seq'] + \"\\n\"\n",
    "            f.write(lines)\n",
    "        f.close()\n",
    "\n",
    "\n",
    "dataframetofasta(df, 'genomic_analyses//SEQ//'+str(seq)+'_SEQ//notambiguous//'+str(hcov)+'_notambiguous')\n"
   ]
  }
 ],
 "metadata": {
  "interpreter": {
   "hash": "9c9ae641c5235c2f1f03348eb2e8dc8801508e47084873ad2b25c816a6e3304f"
  },
  "kernelspec": {
   "display_name": "Python 3.9.13 64-bit (windows store)",
   "language": "python",
   "name": "python3"
  },
  "language_info": {
   "codemirror_mode": {
    "name": "ipython",
    "version": 3
   },
   "file_extension": ".py",
   "mimetype": "text/x-python",
   "name": "python",
   "nbconvert_exporter": "python",
   "pygments_lexer": "ipython3",
   "version": "3.9.13"
  },
  "orig_nbformat": 4
 },
 "nbformat": 4,
 "nbformat_minor": 2
}
